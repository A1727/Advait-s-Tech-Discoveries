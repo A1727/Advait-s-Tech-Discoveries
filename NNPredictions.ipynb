{
  "nbformat": 4,
  "nbformat_minor": 0,
  "metadata": {
    "colab": {
      "name": "NNPredictions.ipynb",
      "version": "0.3.2",
      "provenance": [],
      "collapsed_sections": [],
      "include_colab_link": true
    },
    "kernelspec": {
      "name": "python3",
      "display_name": "Python 3"
    }
  },
  "cells": [
    {
      "cell_type": "markdown",
      "metadata": {
        "id": "view-in-github",
        "colab_type": "text"
      },
      "source": [
        "<a href=\"https://colab.research.google.com/github/A1727/Advait-s-Tech-Discoveries/blob/master/NNPredictions.ipynb\" target=\"_parent\"><img src=\"https://colab.research.google.com/assets/colab-badge.svg\" alt=\"Open In Colab\"/></a>"
      ]
    },
    {
      "metadata": {
        "id": "fkD5WipaGXVN",
        "colab_type": "code",
        "colab": {}
      },
      "cell_type": "code",
      "source": [
        "import numpy\n",
        "import pandas\n",
        "from keras.models import Sequential\n",
        "from keras.layers import Dense\n",
        "from keras.wrappers.scikit_learn import KerasClassifier\n",
        "from keras.utils import np_utils\n",
        "from sklearn.model_selection import cross_validate,train_test_split\n",
        "from sklearn.preprocessing import LabelEncoder"
      ],
      "execution_count": 0,
      "outputs": []
    },
    {
      "metadata": {
        "id": "jqFAi3_yJ8uX",
        "colab_type": "code",
        "colab": {}
      },
      "cell_type": "code",
      "source": [
        "seed = 7\n",
        "numpy.random.seed(seed)"
      ],
      "execution_count": 0,
      "outputs": []
    },
    {
      "metadata": {
        "id": "dBN53ODuKJZC",
        "colab_type": "code",
        "colab": {}
      },
      "cell_type": "code",
      "source": [
        "dataframe = pandas.read_csv(\"a21.csv\", header=None)\n",
        "dataset = dataframe.values\n",
        "X = dataset[:,0:10].astype(float)\n",
        "Y = dataset[:,10]"
      ],
      "execution_count": 0,
      "outputs": []
    },
    {
      "metadata": {
        "id": "vYbRGHT2KUBu",
        "colab_type": "code",
        "colab": {}
      },
      "cell_type": "code",
      "source": [
        "encoder = LabelEncoder()\n",
        "encoder.fit(Y)\n",
        "encoded_Y = encoder.transform(Y)"
      ],
      "execution_count": 0,
      "outputs": []
    },
    {
      "metadata": {
        "id": "NuTs7OnKMNjy",
        "colab_type": "code",
        "colab": {}
      },
      "cell_type": "code",
      "source": [
        "dummy_y = np_utils.to_categorical(encoded_Y)"
      ],
      "execution_count": 0,
      "outputs": []
    },
    {
      "metadata": {
        "id": "dmZogFDaMS0o",
        "colab_type": "code",
        "colab": {}
      },
      "cell_type": "code",
      "source": [
        "def baseline_model():\n",
        "    # create model\n",
        "    model = Sequential()\n",
        "    model.add(Dense(8, input_dim=10, activation='relu' ,kernel_initializer=\"normal\"))\n",
        "    model.add(Dense(16, activation='relu' ,kernel_initializer=\"normal\"))\n",
        "    model.add(Dense(4, activation='sigmoid',kernel_initializer=\"normal\"))\n",
        "    # Compile model\n",
        "    model.compile(loss='categorical_crossentropy', optimizer='adam', metrics=['accuracy'])\n",
        "    return model"
      ],
      "execution_count": 0,
      "outputs": []
    },
    {
      "metadata": {
        "id": "FiYWg7vTMiVR",
        "colab_type": "code",
        "colab": {}
      },
      "cell_type": "code",
      "source": [
        "estimator = KerasClassifier(build_fn=baseline_model, nb_epoch=500, batch_size=5, verbose=0)"
      ],
      "execution_count": 0,
      "outputs": []
    },
    {
      "metadata": {
        "id": "cPOmSWJ6MpII",
        "colab_type": "code",
        "colab": {}
      },
      "cell_type": "code",
      "source": [
        "X_train, X_test, Y_train, Y_test = train_test_split(X, dummy_y, test_size=0.28, random_state=seed)"
      ],
      "execution_count": 0,
      "outputs": []
    },
    {
      "metadata": {
        "id": "d1yP0F99ZbMt",
        "colab_type": "text"
      },
      "cell_type": "markdown",
      "source": [
        ""
      ]
    },
    {
      "metadata": {
        "id": "kCSxkixcMuxi",
        "colab_type": "code",
        "colab": {
          "base_uri": "https://localhost:8080/",
          "height": 34
        },
        "outputId": "d0372681-d626-4c22-f703-7af0c6a1fd05"
      },
      "cell_type": "code",
      "source": [
        "estimator.fit(X_train, Y_train)"
      ],
      "execution_count": 286,
      "outputs": [
        {
          "output_type": "execute_result",
          "data": {
            "text/plain": [
              "<keras.callbacks.History at 0x7f42d18859b0>"
            ]
          },
          "metadata": {
            "tags": []
          },
          "execution_count": 286
        }
      ]
    },
    {
      "metadata": {
        "id": "tka-_5DNM4Oe",
        "colab_type": "code",
        "colab": {}
      },
      "cell_type": "code",
      "source": [
        "predictions = estimator.predict(X_test)"
      ],
      "execution_count": 0,
      "outputs": []
    },
    {
      "metadata": {
        "id": "UP3ccIlmM8cZ",
        "colab_type": "code",
        "colab": {
          "base_uri": "https://localhost:8080/",
          "height": 461
        },
        "outputId": "0e32f7e8-20ac-4607-fef8-003b7dafddc7"
      },
      "cell_type": "code",
      "source": [
        "print(predictions)\n",
        "print(encoder.inverse_transform(predictions))"
      ],
      "execution_count": 288,
      "outputs": [
        {
          "output_type": "stream",
          "text": [
            "[0 1 1 0 1 1 0 0 0 0 2 1 1 1 1 1 1 1 1 2 1 2 0 1 1 1 2 1 1 2 1 1 0 1 1 0 0\n",
            " 1 0 1 2 0 2 0 1 2 2 0 2 1 0 1 1 1 0 1 1 2 1 1 2 1 2 1 1 0 1 1 1 1 1 2 2 0\n",
            " 0 1 1 1 1 1 2 0 1 1 1 1 0 1 0 1 1 2 1 2 1 0 1 2 0 1 2 1 1 1 1 0 1 2 0 1 1\n",
            " 2 1 0 1 1 1 1 1 2 1 2 2 2 0 0 1 2 0 2 2 1 1 1 0 1 2 1 2 1 2 0 2 1 0 1 1 1\n",
            " 2 1 1 0 1 1 1]\n",
            "['level0' 'level1' 'level1' 'level0' 'level1' 'level1' 'level0' 'level0'\n",
            " 'level0' 'level0' 'level2' 'level1' 'level1' 'level1' 'level1' 'level1'\n",
            " 'level1' 'level1' 'level1' 'level2' 'level1' 'level2' 'level0' 'level1'\n",
            " 'level1' 'level1' 'level2' 'level1' 'level1' 'level2' 'level1' 'level1'\n",
            " 'level0' 'level1' 'level1' 'level0' 'level0' 'level1' 'level0' 'level1'\n",
            " 'level2' 'level0' 'level2' 'level0' 'level1' 'level2' 'level2' 'level0'\n",
            " 'level2' 'level1' 'level0' 'level1' 'level1' 'level1' 'level0' 'level1'\n",
            " 'level1' 'level2' 'level1' 'level1' 'level2' 'level1' 'level2' 'level1'\n",
            " 'level1' 'level0' 'level1' 'level1' 'level1' 'level1' 'level1' 'level2'\n",
            " 'level2' 'level0' 'level0' 'level1' 'level1' 'level1' 'level1' 'level1'\n",
            " 'level2' 'level0' 'level1' 'level1' 'level1' 'level1' 'level0' 'level1'\n",
            " 'level0' 'level1' 'level1' 'level2' 'level1' 'level2' 'level1' 'level0'\n",
            " 'level1' 'level2' 'level0' 'level1' 'level2' 'level1' 'level1' 'level1'\n",
            " 'level1' 'level0' 'level1' 'level2' 'level0' 'level1' 'level1' 'level2'\n",
            " 'level1' 'level0' 'level1' 'level1' 'level1' 'level1' 'level1' 'level2'\n",
            " 'level1' 'level2' 'level2' 'level2' 'level0' 'level0' 'level1' 'level2'\n",
            " 'level0' 'level2' 'level2' 'level1' 'level1' 'level1' 'level0' 'level1'\n",
            " 'level2' 'level1' 'level2' 'level1' 'level2' 'level0' 'level2' 'level1'\n",
            " 'level0' 'level1' 'level1' 'level1' 'level2' 'level1' 'level1' 'level0'\n",
            " 'level1' 'level1' 'level1']\n"
          ],
          "name": "stdout"
        }
      ]
    }
  ]
}